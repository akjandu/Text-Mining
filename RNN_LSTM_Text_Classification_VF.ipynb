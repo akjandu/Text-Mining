{
 "cells": [
  {
   "cell_type": "code",
   "execution_count": 2,
   "metadata": {},
   "outputs": [],
   "source": [
    "import matplotlib.pyplot as plt\n",
    "import numpy as np\n",
    "import nltk\n",
    "import sklearn\n",
    "import io\n",
    "from nltk.corpus import stopwords\n",
    "from nltk.tokenize import word_tokenize\n",
    "import pandas as pd\n",
    "from sklearn.datasets import load_files\n",
    "from keras.models import Sequential\n",
    "from keras.layers import Dense\n",
    "from keras.layers import LSTM\n",
    "from keras.layers import Dropout\n",
    "from keras.layers.embeddings import Embedding\n",
    "from keras.preprocessing import sequence\n",
    "from keras.preprocessing.text import one_hot\n",
    "from keras.preprocessing.text import Tokenizer\n",
    "from keras.preprocessing.sequence import pad_sequences\n",
    "from keras.layers import Flatten\n",
    "\n",
    "# fix random seed for reproducibility\n",
    "np.random.seed(7)"
   ]
  },
  {
   "cell_type": "code",
   "execution_count": 3,
   "metadata": {},
   "outputs": [
    {
     "ename": "FileNotFoundError",
     "evalue": "[WinError 53] The network path was not found: '//bbc/train'",
     "output_type": "error",
     "traceback": [
      "\u001b[1;31m---------------------------------------------------------------------------\u001b[0m",
      "\u001b[1;31mFileNotFoundError\u001b[0m                         Traceback (most recent call last)",
      "\u001b[1;32m<ipython-input-3-51622f73c4a4>\u001b[0m in \u001b[0;36m<module>\u001b[1;34m()\u001b[0m\n\u001b[0;32m      1\u001b[0m \u001b[1;31m#load training files\u001b[0m\u001b[1;33m\u001b[0m\u001b[1;33m\u001b[0m\u001b[0m\n\u001b[0;32m      2\u001b[0m \u001b[0mpath_train\u001b[0m \u001b[1;33m=\u001b[0m \u001b[1;34m'//bbc/train'\u001b[0m\u001b[1;33m\u001b[0m\u001b[0m\n\u001b[1;32m----> 3\u001b[1;33m \u001b[0mreviewsTrain\u001b[0m \u001b[1;33m=\u001b[0m \u001b[0mload_files\u001b[0m\u001b[1;33m(\u001b[0m\u001b[0mpath_train\u001b[0m\u001b[1;33m)\u001b[0m\u001b[1;33m\u001b[0m\u001b[0m\n\u001b[0m\u001b[0;32m      4\u001b[0m \u001b[0mX_train\u001b[0m\u001b[1;33m,\u001b[0m \u001b[0my_train\u001b[0m \u001b[1;33m=\u001b[0m \u001b[0mreviewsTrain\u001b[0m\u001b[1;33m.\u001b[0m\u001b[0mdata\u001b[0m\u001b[1;33m,\u001b[0m \u001b[0mreviewsTrain\u001b[0m\u001b[1;33m.\u001b[0m\u001b[0mtarget\u001b[0m\u001b[1;33m\u001b[0m\u001b[0m\n\u001b[0;32m      5\u001b[0m \u001b[1;33m\u001b[0m\u001b[0m\n",
      "\u001b[1;32m~\\Anaconda3\\envs\\tensorflow\\lib\\site-packages\\sklearn\\datasets\\base.py\u001b[0m in \u001b[0;36mload_files\u001b[1;34m(container_path, description, categories, load_content, shuffle, encoding, decode_error, random_state)\u001b[0m\n\u001b[0;32m    164\u001b[0m     \u001b[0mfilenames\u001b[0m \u001b[1;33m=\u001b[0m \u001b[1;33m[\u001b[0m\u001b[1;33m]\u001b[0m\u001b[1;33m\u001b[0m\u001b[0m\n\u001b[0;32m    165\u001b[0m \u001b[1;33m\u001b[0m\u001b[0m\n\u001b[1;32m--> 166\u001b[1;33m     folders = [f for f in sorted(listdir(container_path))\n\u001b[0m\u001b[0;32m    167\u001b[0m                if isdir(join(container_path, f))]\n\u001b[0;32m    168\u001b[0m \u001b[1;33m\u001b[0m\u001b[0m\n",
      "\u001b[1;31mFileNotFoundError\u001b[0m: [WinError 53] The network path was not found: '//bbc/train'"
     ]
    }
   ],
   "source": [
    "#load training files\n",
    "path_train = '//bbc/train'\n",
    "reviewsTrain = load_files(path_train)\n",
    "X_train, y_train = reviewsTrain.data, reviewsTrain.target\n",
    "\n",
    "#load test files\n",
    "path_test = '//bbc/test'\n",
    "reviewsTest = load_files(path_test)\n",
    "X_test, y_test = reviewsTest.data, reviewsTest.target"
   ]
  },
  {
   "cell_type": "code",
   "execution_count": null,
   "metadata": {},
   "outputs": [],
   "source": [
    "# encoding traing data into UTF-8 \n",
    "textTrain = []\n",
    "for each in X_train:\n",
    "    x = each.decode(\"UTF-8\", errors = 'ignore')\n",
    "    textTrain.append(x)\n",
    "\n",
    "# converting the training labels into numbers\n",
    "labelsTrain = np.array(y_train)\n",
    "labelsTrain_one_hot = pd.get_dummies(labelsTrain)\n",
    "\n",
    "# encoding test data into UTF-8\n",
    "textTest = []\n",
    "for each in X_test:\n",
    "    y = each.decode(\"UTF-8\", errors = 'ignore')\n",
    "    textTest.append(y)\n",
    "    \n",
    "# converting the training labels into numbers   \n",
    "labelsTest = np.array(y_test)\n",
    "labelsTest_one_hot = pd.get_dummies(labelsTest)"
   ]
  },
  {
   "cell_type": "code",
   "execution_count": null,
   "metadata": {},
   "outputs": [],
   "source": [
    "# tokenizing the training and test data and remove stop words\n",
    "from nltk.tokenize import word_tokenize\n",
    "from nltk.stem import PorterStemmer\n",
    "stemmer = PorterStemmer()\n",
    "stop_words = set(stopwords.words('english'))\n",
    "\n",
    "for doc in range(len(textTrain)):\n",
    "    clean_text_train = []\n",
    "    text = (textTrain[doc])\n",
    "    tokens = [word.lower() for sent in nltk.sent_tokenize(text) for word in nltk.word_tokenize(sent)]\n",
    "    for token in tokens:\n",
    "        if not token in stop_words:\n",
    "            clean_text_train.append((token))\n",
    "    news = \" \".join(clean_text_train)\n",
    "    textTrain[doc] = news\n",
    "    \n",
    "for doc in range(len(textTest)):\n",
    "    clean_text_test = []\n",
    "    text = (textTest[doc])\n",
    "    tokens = [word.lower() for sent in nltk.sent_tokenize(text) for word in nltk.word_tokenize(sent)]\n",
    "    for token in tokens:\n",
    "        if not token in stop_words:\n",
    "            clean_text_test.append((token))\n",
    "    news = \" \".join(clean_text_test)\n",
    "    textTest[doc] = news\n",
    "    \n",
    "print(\"documents in training dataset:\", len(textTrain))\n",
    "print(\"documents ib training dataset:\",len(textTest))"
   ]
  },
  {
   "cell_type": "code",
   "execution_count": null,
   "metadata": {},
   "outputs": [],
   "source": [
    "# use only top 10000 words for embedding layer\n",
    "top_words = 10000\n",
    "t = Tokenizer(num_words = top_words)\n",
    "t.fit_on_texts(textTrain)\n",
    "vocab_size = len(t.word_index) + 1\n",
    "print(vocab_size)\n",
    "encoded_docs = t.texts_to_sequences(textTrain)\n",
    "#print(encoded_docs)\n",
    "# use only 3000 words from each article and if the article is shorter than 3000 words, do padding (post)\n",
    "max_length = 3000\n",
    "padded_docs = pad_sequences(encoded_docs, maxlen=max_length, padding='post')\n",
    "#print(padded_docs)"
   ]
  },
  {
   "cell_type": "code",
   "execution_count": 8,
   "metadata": {},
   "outputs": [
    {
     "name": "stdout",
     "output_type": "stream",
     "text": [
      "_________________________________________________________________\n",
      "Layer (type)                 Output Shape              Param #   \n",
      "=================================================================\n",
      "embedding_1 (Embedding)      (None, 3000, 300)         3000000   \n",
      "_________________________________________________________________\n",
      "dropout_1 (Dropout)          (None, 3000, 300)         0         \n",
      "_________________________________________________________________\n",
      "lstm_1 (LSTM)                (None, 100)               160400    \n",
      "_________________________________________________________________\n",
      "dropout_2 (Dropout)          (None, 100)               0         \n",
      "_________________________________________________________________\n",
      "dense_1 (Dense)              (None, 5)                 505       \n",
      "=================================================================\n",
      "Total params: 3,160,905\n",
      "Trainable params: 3,160,905\n",
      "Non-trainable params: 0\n",
      "_________________________________________________________________\n",
      "None\n"
     ]
    }
   ],
   "source": [
    "# embedding vector length is 300\n",
    "embedding_vecor_length = 300\n",
    "model = Sequential()\n",
    "model.add(Embedding(top_words, embedding_vecor_length, input_length=max_length))\n",
    "model.add(Dropout(0.1))\n",
    "model.add(LSTM(100))\n",
    "model.add(Dropout(0.1))\n",
    "model.add(Dense(5, activation='sigmoid'))\n",
    "model.compile(loss='binary_crossentropy', optimizer='adam', metrics=['accuracy'])\n",
    "print(model.summary())"
   ]
  },
  {
   "cell_type": "code",
   "execution_count": 9,
   "metadata": {},
   "outputs": [
    {
     "name": "stdout",
     "output_type": "stream",
     "text": [
      "Epoch 1/3\n",
      "1584/1584 [==============================] - 446s 282ms/step - loss: 0.5262 - acc: 0.7895\n",
      "Epoch 2/3\n",
      "1584/1584 [==============================] - 426s 269ms/step - loss: 0.5035 - acc: 0.8000\n",
      "Epoch 3/3\n",
      "1584/1584 [==============================] - 441s 278ms/step - loss: 0.5022 - acc: 0.8000\n",
      "0:21:56\n"
     ]
    }
   ],
   "source": [
    "# measure the time, loss and accuracy at each epoch\n",
    "import datetime\n",
    "import time\n",
    "start_time = datetime.datetime.now().time().strftime('%H:%M:%S')\n",
    "model.fit(padded_docs, labelsTrain_one_hot, epochs=3)\n",
    "end_time = datetime.datetime.now().time().strftime('%H:%M:%S')\n",
    "total_time=(datetime.datetime.strptime(end_time,'%H:%M:%S') - datetime.datetime.strptime(start_time,'%H:%M:%S'))\n",
    "print(total_time)"
   ]
  },
  {
   "cell_type": "code",
   "execution_count": 10,
   "metadata": {
    "collapsed": true
   },
   "outputs": [],
   "source": [
    "# time to test our model\n",
    "# converting test dataset into integers and then padding\n",
    "top_words = 10000\n",
    "t = Tokenizer(num_words = top_words, lower = True)\n",
    "t.fit_on_texts(textTest)\n",
    "vocab_size = len(t.word_index) + 1\n",
    "#print(vocab_size)\n",
    "encoded_docs = t.texts_to_sequences(textTest)\n",
    "\n",
    "max_length = 3000\n",
    "padded_test = pad_sequences(encoded_docs, maxlen=max_length, padding='post')\n",
    "#print(padded_docs)\n",
    "# accuracy score of the model is 80%\n",
    "scores = model.evaluate(padded_test, labelsTest_one_hot, verbose=0)\n",
    "print(\"Accuracy: %.2f%%\" % (scores[1]*100))"
   ]
  }
 ],
 "metadata": {
  "kernelspec": {
   "display_name": "tenserflow",
   "language": "python",
   "name": "tenserflow"
  },
  "language_info": {
   "codemirror_mode": {
    "name": "ipython",
    "version": 3
   },
   "file_extension": ".py",
   "mimetype": "text/x-python",
   "name": "python",
   "nbconvert_exporter": "python",
   "pygments_lexer": "ipython3",
   "version": "3.5.5"
  }
 },
 "nbformat": 4,
 "nbformat_minor": 2
}
